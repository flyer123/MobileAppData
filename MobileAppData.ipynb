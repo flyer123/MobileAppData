{
 "cells": [
  {
   "cell_type": "markdown",
   "id": "d1b5572b",
   "metadata": {},
   "source": [
    "Analyze the data to help developers understand what type of apps are likely to attract more users."
   ]
  },
  {
   "cell_type": "code",
   "execution_count": 35,
   "id": "fd36aaae",
   "metadata": {},
   "outputs": [],
   "source": [
    "import sys\n",
    "import csv"
   ]
  },
  {
   "cell_type": "markdown",
   "id": "42fd5097",
   "metadata": {},
   "source": [
    "function to explore dataset"
   ]
  },
  {
   "cell_type": "code",
   "execution_count": 36,
   "id": "9a76f715",
   "metadata": {},
   "outputs": [],
   "source": [
    "def explore_data(dataset, start, end, rows_and_columns=False):\n",
    "    dataset_slice = dataset[start:end]\n",
    "    for row in dataset_slice:\n",
    "        print(row)\n",
    "        print('\\n')\n",
    "        \n",
    "    if rows_and_columns:\n",
    "        print('Number of rows', len(dataset))\n",
    "        print('Number of columns', len(dataset[0]))"
   ]
  },
  {
   "cell_type": "markdown",
   "id": "e0b65480",
   "metadata": {},
   "source": [
    "function to open a dataset"
   ]
  },
  {
   "cell_type": "code",
   "execution_count": 37,
   "id": "6ccae77e",
   "metadata": {},
   "outputs": [],
   "source": [
    "def open_file(filePath, delim, header=True):\n",
    "    dataset = []\n",
    "    with open(filePath, 'r', newline='', encoding=\"utf8\") as csv_in_file:\n",
    "        filereader = csv.reader(csv_in_file, delimiter=delim)\n",
    "        if header:\n",
    "            columns = next(filereader)\n",
    "        for row in filereader:\n",
    "            dataset.append(row)\n",
    "        return dataset, columns"
   ]
  },
  {
   "cell_type": "code",
   "execution_count": 38,
   "id": "2fc5e987",
   "metadata": {},
   "outputs": [],
   "source": [
    "ios, cols_ios = open_file('./MobileApp/AppleStore.csv', ',')"
   ]
  },
  {
   "cell_type": "code",
   "execution_count": 39,
   "id": "f6a56752",
   "metadata": {},
   "outputs": [
    {
     "name": "stdout",
     "output_type": "stream",
     "text": [
      "['284882215', 'Facebook', '389879808', 'USD', '0.0', '2974676', '212', '3.5', '3.5', '95.0', '4+', 'Social Networking', '37', '1', '29', '1']\n",
      "\n",
      "\n",
      "['389801252', 'Instagram', '113954816', 'USD', '0.0', '2161558', '1289', '4.5', '4.0', '10.23', '12+', 'Photo & Video', '37', '0', '29', '1']\n",
      "\n",
      "\n",
      "['529479190', 'Clash of Clans', '116476928', 'USD', '0.0', '2130805', '579', '4.5', '4.5', '9.24.12', '9+', 'Games', '38', '5', '18', '1']\n",
      "\n",
      "\n",
      "Number of rows 7197\n",
      "Number of columns 16\n"
     ]
    }
   ],
   "source": [
    "explore_data(ios, 0, 3, rows_and_columns=True)"
   ]
  },
  {
   "cell_type": "code",
   "execution_count": 40,
   "id": "90d25970",
   "metadata": {},
   "outputs": [
    {
     "data": {
      "text/plain": [
       "['id',\n",
       " 'track_name',\n",
       " 'size_bytes',\n",
       " 'currency',\n",
       " 'price',\n",
       " 'rating_count_tot',\n",
       " 'rating_count_ver',\n",
       " 'user_rating',\n",
       " 'user_rating_ver',\n",
       " 'ver',\n",
       " 'cont_rating',\n",
       " 'prime_genre',\n",
       " 'sup_devices.num',\n",
       " 'ipadSc_urls.num',\n",
       " 'lang.num',\n",
       " 'vpp_lic']"
      ]
     },
     "execution_count": 40,
     "metadata": {},
     "output_type": "execute_result"
    }
   ],
   "source": [
    "cols_ios"
   ]
  },
  {
   "cell_type": "markdown",
   "id": "0d54da8c",
   "metadata": {},
   "source": [
    "Possible interesting columns are: 'currency', 'rating_count_tot', 'user_rating', 'price', 'track_name'"
   ]
  },
  {
   "cell_type": "code",
   "execution_count": 41,
   "id": "19fae981",
   "metadata": {},
   "outputs": [],
   "source": [
    "googleplay, cols_googleplay = open_file('./MobileApp/googleplaystore.csv', ',')"
   ]
  },
  {
   "cell_type": "code",
   "execution_count": 42,
   "id": "ed094480",
   "metadata": {},
   "outputs": [
    {
     "name": "stdout",
     "output_type": "stream",
     "text": [
      "['Photo Editor & Candy Camera & Grid & ScrapBook', 'ART_AND_DESIGN', '4.1', '159', '19M', '10,000+', 'Free', '0', 'Everyone', 'Art & Design', 'January 7, 2018', '1.0.0', '4.0.3 and up']\n",
      "\n",
      "\n",
      "['Coloring book moana', 'ART_AND_DESIGN', '3.9', '967', '14M', '500,000+', 'Free', '0', 'Everyone', 'Art & Design;Pretend Play', 'January 15, 2018', '2.0.0', '4.0.3 and up']\n",
      "\n",
      "\n",
      "['U Launcher Lite – FREE Live Cool Themes, Hide Apps', 'ART_AND_DESIGN', '4.7', '87510', '8.7M', '5,000,000+', 'Free', '0', 'Everyone', 'Art & Design', 'August 1, 2018', '1.2.4', '4.0.3 and up']\n",
      "\n",
      "\n",
      "Number of rows 10841\n",
      "Number of columns 13\n"
     ]
    }
   ],
   "source": [
    "explore_data(googleplay, 0, 3, rows_and_columns=True)"
   ]
  },
  {
   "cell_type": "code",
   "execution_count": 43,
   "id": "705d18f0",
   "metadata": {},
   "outputs": [
    {
     "data": {
      "text/plain": [
       "['App',\n",
       " 'Category',\n",
       " 'Rating',\n",
       " 'Reviews',\n",
       " 'Size',\n",
       " 'Installs',\n",
       " 'Type',\n",
       " 'Price',\n",
       " 'Content Rating',\n",
       " 'Genres',\n",
       " 'Last Updated',\n",
       " 'Current Ver',\n",
       " 'Android Ver']"
      ]
     },
     "execution_count": 43,
     "metadata": {},
     "output_type": "execute_result"
    }
   ],
   "source": [
    "cols_googleplay"
   ]
  },
  {
   "cell_type": "markdown",
   "id": "96324e1a",
   "metadata": {},
   "source": [
    "Possible interesting columns are = 'App', 'Category'?, 'Rating', 'Reviews', 'Installs', 'Price'"
   ]
  },
  {
   "cell_type": "code",
   "execution_count": null,
   "id": "74979399",
   "metadata": {},
   "outputs": [],
   "source": []
  }
 ],
 "metadata": {
  "kernelspec": {
   "display_name": "Python 3 (ipykernel)",
   "language": "python",
   "name": "python3"
  },
  "language_info": {
   "codemirror_mode": {
    "name": "ipython",
    "version": 3
   },
   "file_extension": ".py",
   "mimetype": "text/x-python",
   "name": "python",
   "nbconvert_exporter": "python",
   "pygments_lexer": "ipython3",
   "version": "3.10.2"
  }
 },
 "nbformat": 4,
 "nbformat_minor": 5
}
